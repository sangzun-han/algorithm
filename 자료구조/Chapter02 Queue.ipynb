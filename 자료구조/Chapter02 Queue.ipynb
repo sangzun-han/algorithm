{
 "metadata": {
  "language_info": {
   "codemirror_mode": {
    "name": "ipython",
    "version": 3
   },
   "file_extension": ".py",
   "mimetype": "text/x-python",
   "name": "python",
   "nbconvert_exporter": "python",
   "pygments_lexer": "ipython3",
   "version": "3.6.8-final"
  },
  "orig_nbformat": 2,
  "kernelspec": {
   "name": "python3",
   "display_name": "Python 3",
   "language": "python"
  }
 },
 "nbformat": 4,
 "nbformat_minor": 2,
 "cells": [
  {
   "source": [
    "## 1. 큐 구조\n",
    "\n",
    "- 줄을 서는 행위와 유사\n",
    "- 가장 먼저 넣은 데이터를 가장 먼저 꺼낼 수 있는 구조\n",
    "- FIFO (First-In, First-Out) 또는 LILO (Last-in, Last Out)\n",
    "\n",
    "<img src=\"https://user-images.githubusercontent.com/57563053/103474477-a5d64800-4de7-11eb-9590-6a3c2700fd4b.png\">\n",
    "\n",
    "\n",
    "## 2. 용어\n",
    "\n",
    "- Enqueue: 큐에 데이터를 넣는 기능\n",
    "- Dequeue: 큐에서 데이터를 꺼내는 기능\n",
    "\n",
    "<img src=\"https://user-images.githubusercontent.com/57563053/103474484-b8e91800-4de7-11eb-8492-da0ea66af1c8.gif\">\n",
    "\n",
    "참고자료 : https://visualgo.net/en/list\n"
   ],
   "cell_type": "markdown",
   "metadata": {}
  },
  {
   "source": [
    "## 3. 파이썬 queue 라이브러리 활용\n",
    "## 3.1 Queue()로 큐 만들기 (FIFO)"
   ],
   "cell_type": "markdown",
   "metadata": {}
  },
  {
   "source": [
    "import queue\n",
    "data_queue = queue.Queue()\n",
    "data_queue.put(\"coding\")\n",
    "data_queue.put(2)\n",
    "data_queue.qsize()\n",
    "data_queue.get()\n",
    "data_queue.qsize()"
   ],
   "cell_type": "code",
   "metadata": {},
   "execution_count": 16,
   "outputs": [
    {
     "output_type": "execute_result",
     "data": {
      "text/plain": [
       "1"
      ]
     },
     "metadata": {},
     "execution_count": 16
    }
   ]
  },
  {
   "source": [
    "## 3.2 LIfoQueue()로 큐 만들기 (LIFO(Last-in, First-Out))\n"
   ],
   "cell_type": "code",
   "metadata": {},
   "execution_count": null,
   "outputs": []
  },
  {
   "cell_type": "code",
   "execution_count": 23,
   "metadata": {},
   "outputs": [
    {
     "output_type": "execute_result",
     "data": {
      "text/plain": [
       "6"
      ]
     },
     "metadata": {},
     "execution_count": 23
    }
   ],
   "source": [
    "import queue\n",
    "data_queue = queue.LifoQueue()\n",
    "data_queue.put(\"funcoding\")\n",
    "data_queue.put(6)\n",
    "data_queue.qsize()\n",
    "data_queue.get()"
   ]
  },
  {
   "source": [
    "## 3.3 PriorityQueue()로 큐 만들기\n"
   ],
   "cell_type": "markdown",
   "metadata": {}
  },
  {
   "cell_type": "code",
   "execution_count": 31,
   "metadata": {},
   "outputs": [
    {
     "output_type": "execute_result",
     "data": {
      "text/plain": [
       "(10, 'korea')"
      ]
     },
     "metadata": {},
     "execution_count": 31
    }
   ],
   "source": [
    "import queue\n",
    "data_queue = queue.PriorityQueue()\n",
    "data_queue.put((10,\"korea\"))\n",
    "data_queue.put((5,1))\n",
    "data_queue.put((15,\"NG\"))\n",
    "data_queue.get()\n",
    "data_queue.get()\n"
   ]
  },
  {
   "source": [
    "## 참고 : 어디에 큐가 많이 쓰일까?\n",
    "- 멀티 태스킹을 위한 프로세스 스케줄링 방식을 구현하기 위해 많이 사용됨\n",
    "- 큐의 경우에는 장단점 보다는 큐의 활용 예로 프로세스 스케줄링 방식을 함께 이해하는것이 좋음"
   ],
   "cell_type": "markdown",
   "metadata": {}
  },
  {
   "source": [
    "연습 1: 리스트 변수로 큐를 다루는 enqueue, dequeue기능 구현하기\n"
   ],
   "cell_type": "markdown",
   "metadata": {}
  },
  {
   "cell_type": "code",
   "execution_count": 43,
   "metadata": {},
   "outputs": [
    {
     "output_type": "execute_result",
     "data": {
      "text/plain": [
       "0"
      ]
     },
     "metadata": {},
     "execution_count": 43
    }
   ],
   "source": [
    "queue_list = list()\n",
    "\n",
    "def enqueue(data):\n",
    "    queue_list.append(data)\n",
    "def dequeue():\n",
    "    data = queue_list[0]\n",
    "    del queue_list[0]\n",
    "    return data\n",
    "\n",
    "for index in range(10):\n",
    "    enqueue(index)\n",
    "dequeue()\n",
    "    "
   ]
  },
  {
   "cell_type": "code",
   "execution_count": null,
   "metadata": {},
   "outputs": [],
   "source": []
  }
 ]
}