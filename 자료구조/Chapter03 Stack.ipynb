{
 "metadata": {
  "language_info": {
   "codemirror_mode": {
    "name": "ipython",
    "version": 3
   },
   "file_extension": ".py",
   "mimetype": "text/x-python",
   "name": "python",
   "nbconvert_exporter": "python",
   "pygments_lexer": "ipython3",
   "version": "3.6.8-final"
  },
  "orig_nbformat": 2,
  "kernelspec": {
   "name": "python3",
   "display_name": "Python 3",
   "language": "python"
  }
 },
 "nbformat": 4,
 "nbformat_minor": 2,
 "cells": [
  {
   "source": [
    "## 1. 스택\n",
    "- 데이터를 제한적으로 접근할 수 있는 구조\n",
    "\n",
    "    - 한쪽 끝에서만 자료를 넣거나 뺄 수 있는 구조\n",
    "- 가장 나중에 쌓은 데이터를 가장 먼저 빼낼 수 있는 데이터 구조\n",
    "- 큐 : FIFO \n",
    "- 스택 : LIFO\n"
   ],
   "cell_type": "markdown",
   "metadata": {}
  },
  {
   "source": [
    "## 2. 대표적인 스택의 활용\n",
    "- 컴퓨터 내부의 프로세스 구조의 함수 동작 방식\n",
    "- push() : 데이터를 스택에 넣기\n",
    "- pop() : 데이터를 스택에서 꺼내기\n",
    "\n",
    "<img src=\"https://user-images.githubusercontent.com/57563053/103476851-9b727900-4dfc-11eb-9240-1bfd59f6d610.gif\">\n"
   ],
   "cell_type": "markdown",
   "metadata": {}
  },
  {
   "source": [
    "## 3. 스택의 장단점\n",
    "- 장점 \n",
    "    - 구조가 단순해서 구현이 쉽다.\n",
    "    - 데이터 저장/읽기 속도가 빠르다.\n",
    "- 단점\n",
    "    - 데이터 최대 갯수를 미리 정해야 한다.\n",
    "        - 파이썬의 경우 재귀함수는 1000번까지만 호출이 가능\n",
    "    - 저장 공간의 낭비가 발생할 수 있음\n",
    "        - 미리 최대 갯수만큼 저장 공간을 확보해야 함\n",
    "\n",
    "```\n",
    "스택은 단순하고 빠른 성능을 위해 사용되므로, 보통 배열 구조를 활용해서 구현하는것이 일반적\n",
    "```\n"
   ],
   "cell_type": "markdown",
   "metadata": {}
  },
  {
   "source": [
    "## 4. 파이썬 리스트 기능에서 제공하는 메소드로 스택 사용"
   ],
   "cell_type": "markdown",
   "metadata": {}
  },
  {
   "source": [
    "data_stack = list()\n",
    "data_stack.append(1)\n",
    "data_stack.append(2)\n",
    "data_stack\n",
    "data_stack.pop()"
   ],
   "cell_type": "code",
   "metadata": {},
   "execution_count": 7,
   "outputs": [
    {
     "output_type": "execute_result",
     "data": {
      "text/plain": [
       "2"
      ]
     },
     "metadata": {},
     "execution_count": 7
    }
   ]
  },
  {
   "source": [
    "연습 : 리스트 변수로 스택을 다루는 pop,push 기능 구현하기"
   ],
   "cell_type": "markdown",
   "metadata": {}
  },
  {
   "cell_type": "code",
   "execution_count": 12,
   "metadata": {},
   "outputs": [
    {
     "output_type": "execute_result",
     "data": {
      "text/plain": [
       "[0, 1, 2, 3, 4]"
      ]
     },
     "metadata": {},
     "execution_count": 12
    }
   ],
   "source": [
    "stack_list = list()\n",
    "\n",
    "def pop():\n",
    "    data = stack_list[-1]\n",
    "    del stack_list[-1]\n",
    "    return data\n",
    "def push(data):\n",
    "    stack_list.append(data)\n",
    "\n",
    "for index in range(5):\n",
    "    push(index)\n",
    "stack_list"
   ]
  },
  {
   "cell_type": "code",
   "execution_count": null,
   "metadata": {},
   "outputs": [],
   "source": []
  }
 ]
}