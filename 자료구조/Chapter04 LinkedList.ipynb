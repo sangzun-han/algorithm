{
 "metadata": {
  "language_info": {
   "codemirror_mode": {
    "name": "ipython",
    "version": 3
   },
   "file_extension": ".py",
   "mimetype": "text/x-python",
   "name": "python",
   "nbconvert_exporter": "python",
   "pygments_lexer": "ipython3",
   "version": "3.6.8-final"
  },
  "orig_nbformat": 2,
  "kernelspec": {
   "name": "python3",
   "display_name": "Python 3",
   "language": "python"
  }
 },
 "nbformat": 4,
 "nbformat_minor": 2,
 "cells": [
  {
   "source": [
    "## 1. 링크드 리스트 (Linked List)\n",
    "- 연결 리스트\n",
    "- 배열은 순차적으로 연결된 공간에 데이터를 나열하는 데이터 구조\n",
    "- Linked List는 떨어진곳에 존재하는 데이터를 화살표를 연결해서 관리하는 데이터 구조\n",
    "- C언어에서는 주요한 데이터 구조이지만, 파있너은 리스트타입이 Linked List의 기능을 모두 지원\n",
    "\n",
    "<img src=\"https://user-images.githubusercontent.com/57563053/104002369-537c9900-51e4-11eb-8e79-4ff1b9e43dd2.jpg\">\n"
   ],
   "cell_type": "markdown",
   "metadata": {}
  },
  {
   "source": [
    "## 2. 간단한 Linked List Example\n",
    "- Node 구현\n",
    "    - 보통 파이썬에서 Linked List 구현시, 파이썬 클래스 활용\n",
    "- Node와 Node 연결\n"
   ],
   "cell_type": "markdown",
   "metadata": {}
  },
  {
   "cell_type": "code",
   "execution_count": 5,
   "metadata": {},
   "outputs": [],
   "source": [
    "class Node:\n",
    "    def __init__(self, data):\n",
    "        self.data = data\n",
    "        self.next = None"
   ]
  },
  {
   "cell_type": "code",
   "execution_count": 6,
   "metadata": {},
   "outputs": [],
   "source": [
    "class Node:\n",
    "    def __init__(self,data,next=None):\n",
    "        self.data = data\n",
    "        self.next = next\n",
    "\n",
    "node1 = Node(1)\n",
    "node2 = Node(2)\n",
    "node1.next = node2\n",
    "head = node1"
   ]
  },
  {
   "source": [
    "## 2.1 Linked List 데이터 추가"
   ],
   "cell_type": "markdown",
   "metadata": {}
  },
  {
   "source": [
    "class Node:\n",
    "    def __init__(self,data,next=None):\n",
    "        self.data = data\n",
    "        self.next = next\n",
    "\n",
    "def add(data):\n",
    "    node = head # data를 추가할때는 마지막에 넣음\n",
    "    while node.next: # 다음 node가 존재하면 true\n",
    "        node = node.next # 다음 주소 ㄱㄱ\n",
    "    node.next = Node(data)\n",
    "\n",
    "node1 = Node(1)\n",
    "head = node1\n",
    "for index in range(2,11):\n",
    "    add(index)\n",
    "\n"
   ],
   "cell_type": "code",
   "metadata": {},
   "execution_count": 43,
   "outputs": []
  },
  {
   "source": [
    "## 2.2 Linked List 출력하기"
   ],
   "cell_type": "markdown",
   "metadata": {}
  },
  {
   "source": [
    "node = head\n",
    "while node.next:\n",
    "    print(node.data)\n",
    "    node = node.next\n"
   ],
   "cell_type": "code",
   "metadata": {},
   "execution_count": 44,
   "outputs": [
    {
     "output_type": "stream",
     "name": "stdout",
     "text": [
      "1\n2\n3\n4\n5\n6\n7\n8\n9\n"
     ]
    }
   ]
  },
  {
   "source": [
    "## 3. Linked List 장단점\n",
    "- 장점\n",
    "    - 미리 데이터 공간을 미리 할당하지 않아도 됨\n",
    "        - 배열은 미리 데이터 공간을 할당해야 함\n",
    "\n",
    "- 단점\n",
    "    - 연결을 위한 별도 데이터 공간이 필요하므로 저장공간 효율이 높지는 않음\n",
    "    - 연결정보를 찾는 시간이 필요하므로 접근 속도가 느림\n",
    "    - 중간 데이터 삭제 시, 앞뒤 데이터의 연결을 재구성하는 부가적 작업 필요\n"
   ],
   "cell_type": "markdown",
   "metadata": {}
  },
  {
   "source": [
    "## 4. Linked List의 기능 (데이터사이에 데이터 추가)"
   ],
   "cell_type": "markdown",
   "metadata": {}
  },
  {
   "source": [
    "node3 = Node(1.5)\n",
    "\n",
    "node = head\n",
    "search = True\n",
    "while search:\n",
    "    if node.data==1:\n",
    "        search = False\n",
    "    else:\n",
    "        node = node.next\n",
    "\n",
    "node_next = node.next\n",
    "node.next = node3\n",
    "node3.next = node_next\n",
    "\n",
    "while node.next:\n",
    "    print(node.data)\n",
    "    node = node.next\n"
   ],
   "cell_type": "code",
   "metadata": {},
   "execution_count": null,
   "outputs": []
  },
  {
   "source": [
    "## 5. python 객체지향으로 Linked List 구현\n"
   ],
   "cell_type": "markdown",
   "metadata": {}
  },
  {
   "cell_type": "code",
   "execution_count": 53,
   "metadata": {},
   "outputs": [
    {
     "output_type": "stream",
     "name": "stdout",
     "text": [
      "0\n1\n2\n3\n4\n5\n6\n7\n8\n9\n"
     ]
    }
   ],
   "source": [
    "class Node:\n",
    "    def __init__(self,data,next=None):\n",
    "        self.data = data\n",
    "        self.next = next\n",
    "    \n",
    "class NodeMgmt:\n",
    "    def __init__(self,data):\n",
    "        self.head = Node(data)\n",
    "\n",
    "    def add(self,data):\n",
    "        if self.head == '':\n",
    "            self.head = Node(data)\n",
    "        else:\n",
    "            node = self.head\n",
    "            while node.next:\n",
    "                node = node.next\n",
    "            node.next = Node(data)\n",
    "    def desc(self):\n",
    "        node = self.head\n",
    "        while node:\n",
    "            print(node.data)\n",
    "            node = node.next\n",
    "\n",
    "linkedList = NodeMgmt(0)\n",
    "for data in range(1,10):\n",
    "    linkedList.add(data)\n",
    "linkedList.desc()\n",
    "\n",
    "    \n"
   ]
  },
  {
   "cell_type": "code",
   "execution_count": null,
   "metadata": {},
   "outputs": [],
   "source": []
  }
 ]
}