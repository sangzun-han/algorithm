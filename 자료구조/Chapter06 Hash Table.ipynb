{
 "metadata": {
  "language_info": {
   "codemirror_mode": {
    "name": "ipython",
    "version": 3
   },
   "file_extension": ".py",
   "mimetype": "text/x-python",
   "name": "python",
   "nbconvert_exporter": "python",
   "pygments_lexer": "ipython3",
   "version": "3.6.8-final"
  },
  "orig_nbformat": 2,
  "kernelspec": {
   "name": "python3",
   "display_name": "Python 3",
   "language": "python"
  }
 },
 "nbformat": 4,
 "nbformat_minor": 2,
 "cells": [
  {
   "source": [
    "# 해쉬 테이블\n",
    "\n",
    "### 1. 해쉬구조\n",
    "- Hash Table: Key에 Value를 저장하는 데이터 구조\n",
    "    - Key를 통해 바로 데이터를 받아올 수 있으므로 속도가 빨라짐\n",
    "    - 파이썬 딕셔너리 타입이 해쉬테이블의 예\n",
    "    보통 배열로 미리 Hash Table 사이즈만큼 생성 후에 사용 공간과 탐색 시간을 맞바꾸는 기법\n",
    "    - 단 파이썬에서는 해쉬를 별도 구현할 필요는 없음\n",
    "\n",
    "### 2. 용어\n",
    "- Hash : 임의 값을 고정 길이로 변환하는 것\n",
    "- Hash Table: 키 값의 연산에 의해 직접 접근이 가능한 데이터 구조\n",
    "- Hashing Function:키에 대해 산술 연산을 이용해 데이터 위치를 찾을 수 있는 함수\n",
    "- Hash Value(Hash Address): 키를 해싱 함수로 연산해서 해쉬값을 알아내고 이를 기반으로 해쉬테이블을 찾을 수 있음\n",
    "- Slot: 한 개의 데이터를 저장할 수 있는 공간\n",
    "- 저장할 데이터에 대해 키를 추출할 수 있는 별도 함수도 존재할 수 있음\n",
    "\n",
    "<img src=\"https://user-images.githubusercontent.com/57563053/105568346-f3592b80-5d7b-11eb-8e37-243f5e2d40c7.png\" width=300 />\n"
   ],
   "cell_type": "markdown",
   "metadata": {}
  },
  {
   "source": [
    "### 3. 간단한 해쉬 예\n",
    "\n",
    "### 3.1 hash table 만들기\n"
   ],
   "cell_type": "markdown",
   "metadata": {}
  },
  {
   "cell_type": "code",
   "execution_count": 4,
   "metadata": {},
   "outputs": [
    {
     "output_type": "execute_result",
     "data": {
      "text/plain": [
       "[3, 3, 3, 3, 3, 3, 3, 3, 3, 3]"
      ]
     },
     "metadata": {},
     "execution_count": 4
    }
   ],
   "source": [
    "hash_table = list([0 for i in range(10)])\n",
    "hash_table"
   ]
  },
  {
   "source": [
    "### 3.2 초간단 해쉬 함수\n",
    "- 다양한 해쉬 함수 고안 기법이 있으며 가장 간단한 방식이 Division"
   ],
   "cell_type": "markdown",
   "metadata": {}
  },
  {
   "cell_type": "code",
   "execution_count": 25,
   "metadata": {},
   "outputs": [],
   "source": [
    "def hash_function(key):\n",
    "    return key % 5\n"
   ]
  },
  {
   "source": [
    "### 3.3 해쉬테이블에 저장\n",
    "- 데이터에 따라 필요시 key 생성 방법 정의가 필요함"
   ],
   "cell_type": "markdown",
   "metadata": {}
  },
  {
   "cell_type": "code",
   "execution_count": 21,
   "metadata": {},
   "outputs": [
    {
     "output_type": "stream",
     "name": "stdout",
     "text": [
      "65 68 84\n"
     ]
    }
   ],
   "source": [
    "data1 = \"Andy\"\n",
    "data2 = 'Dave'\n",
    "data3 = 'Trump'\n",
    "\n",
    "## ord() :answkdml ASCII 코드 리턴\n",
    "print(ord(data1[0]), ord(data2[0]), ord(data3[0]))\n"
   ]
  },
  {
   "cell_type": "code",
   "execution_count": 23,
   "metadata": {},
   "outputs": [
    {
     "output_type": "execute_result",
     "data": {
      "text/plain": [
       "'010-5555-3333'"
      ]
     },
     "metadata": {},
     "execution_count": 23
    }
   ],
   "source": [
    "hash_table = list([0 for i in range(10)])\n",
    "\n",
    "def hash_function(key):\n",
    "    return key % 5\n",
    "\n",
    "def storage_data(data, value):\n",
    "    key = ord(data[0])\n",
    "    hash_address = hash_function(key)\n",
    "    hash_table[hash_address] = value\n",
    "\n",
    "storage_data('Andy', '010-5555-3333')\n",
    "storage_data('Dave', '010-4444-1862')\n",
    "storage_data('Trump', '010-4442-2222')\n",
    "\n",
    "def get_data(data):\n",
    "    key = ord(data[0])\n",
    "    hash_address = hash_function(key)\n",
    "    return hash_table[hash_address]\n",
    "\n",
    "get_data('Andy')"
   ]
  },
  {
   "source": [
    "### 해쉬테이블의 장단점과 주요 용도\n",
    "- 장점\n",
    "    - 데이터 저장/읽기 속도가 빠르다\n",
    "    - 해쉬는 키에 대한 데이터가 있는지(중복) 확인이 쉬움\n",
    "- 단점\n",
    "    - 일반적으로 저장공간이 좀 더 많이 필요하다\n",
    "    - 여러개에 해당하는 주소가 동일할 경우 충돌을 해결하기 위한 별도 자료구조 필요함\n",
    "- 주요 용도\n",
    "    - 검색이 많이 필요할 경우\n",
    "    - 저장,삭제,읽기가 빈번한 경우\n",
    "    - 캐쉬 구현이 (중복 확인이 쉽기 때문)"
   ],
   "cell_type": "markdown",
   "metadata": {}
  },
  {
   "source": [
    "### 5. 프로그래밍 연습\n",
    "- 리스트 변수를 활용해서 해쉬 테이블 구현해보기\n",
    "\n",
    "1. 해쉬 함수: key % 8 \n",
    "2. 해쉬 키 생성: hash(data)\n"
   ],
   "cell_type": "markdown",
   "metadata": {}
  },
  {
   "source": [
    "hash_table = list([0 for i in range(8)])\n",
    "\n",
    "def get_key(data):\n",
    "    return hash(data)\n",
    "\n",
    "def hash_function(key):\n",
    "    return key % 8\n",
    "\n",
    "def save_data(data, value):\n",
    "    hash_address = hash_function(get_key(data))\n",
    "    hash_table[hash_address] = value\n",
    "\n",
    "def read_data(data):\n",
    "    hash_address = hash_function(get_key(data))\n",
    "    return hash_table[hash_address]\n",
    "\n",
    "save_data('dave', '010-1234-1235')\n",
    "save_data('Andy', '010-4567-1824')\n",
    "read_data('dave')\n",
    "hash_table\n",
    "\n"
   ],
   "cell_type": "code",
   "metadata": {},
   "execution_count": 39,
   "outputs": [
    {
     "output_type": "execute_result",
     "data": {
      "text/plain": [
       "[0, 0, 0, 0, 0, 0, '010-1234-1235', '010-4567-1824']"
      ]
     },
     "metadata": {},
     "execution_count": 39
    }
   ]
  },
  {
   "source": [
    "### 6. 충돌 (Collision) 해결 알고리즘 (좋은 해쉬 함수 사용하기)\n",
    "- 해쉬 테이블의 가장 큰 문제는 충돌의 경우이다. 이 문제를 충돌(Collision) 또는 해쉬충돌(Hash Collision)이라고 부름"
   ],
   "cell_type": "markdown",
   "metadata": {}
  },
  {
   "source": [
    "### 6.1 Chaining 기법\n",
    "- 개방 해쉬 또는 Open Hashing 기법 중 하나: 해쉬 테이블 저장 공간외의 공간을 활용하는 기법\n",
    "- 충돌이 일어나면, 링크드리스트라는 자료구조를 사용해서, 링크드 리스트로 데이터를 추가로 뒤에 연결시켜서 저장하는 기법\n",
    "    "
   ],
   "cell_type": "markdown",
   "metadata": {}
  },
  {
   "source": [
    "### 6.2 Linear Probing 기법\n",
    "- 폐쇄 해쉬 또는 Close Hashing 기법 중 하나: 해쉬 테이블 저장공간 안에서 충돌 문제를 해결하는 기법\n",
    "- 충돌이 일어나면, 해당 hash address의 다음 address부터 맨 처음 나오는 빈공간에 저장하는 기법"
   ],
   "cell_type": "markdown",
   "metadata": {}
  },
  {
   "source": [
    "### 연습2. Chainig기법으로 충돌해결 코드 추가하기\n",
    "- 해쉬 함수: key % 8\n",
    "- 해쉬 키 생성: hash(data)"
   ],
   "cell_type": "markdown",
   "metadata": {}
  },
  {
   "source": [
    "hash_table = list([0 for i in range(8)])\n",
    "\n",
    "def get_key(data):\n",
    "    return hash(data)\n",
    "\n",
    "def hash_function(key):\n",
    "    return key % 8\n",
    "\n",
    "def save_data(data, value):\n",
    "    index_key = get_key(data)\n",
    "    hash_address = hash_function(index_key)\n",
    "    if hash_table[hash_address] != 0: # 데이터가 들어가 있다면\n",
    "        for index in range(len(hash_table[hash_address])):\n",
    "            if hash_table[hash_address][index][0] == index_key: # 하나는 키 값\n",
    "                hash_table[hash_address][index][1] = value # 하나는 value 값\n",
    "                return\n",
    "        hash_table[hash_address].append([index_key, value])\n",
    "    else: # 데이터가 없다면\n",
    "        hash_table[hash_address] = [[index_key, value]]\n",
    "    \n",
    "def read_data(data):\n",
    "    index_key = get_key(data)\n",
    "    hash_address = hash_function(index_key)\n",
    "\n",
    "    if hash_table[hash_address] != 0:\n",
    "        for index in range(len(hash_table[hash_address])):\n",
    "            if hash_table[hash_address][index][0] == index_key:\n",
    "                return hash_table[hash_address][index][1] # 찾고자 하는 value를 반환\n",
    "        return None\n",
    "    else:\n",
    "        return None\n"
   ],
   "cell_type": "code",
   "metadata": {},
   "execution_count": 51,
   "outputs": [
    {
     "output_type": "execute_result",
     "data": {
      "text/plain": [
       "'010-1234-1234'"
      ]
     },
     "metadata": {},
     "execution_count": 51
    }
   ]
  },
  {
   "source": [
    "### 연습3. Linear Probling 기법으로 충돌해결 코드 추가해보기\n",
    "- 해쉬 함수: key % 8\n",
    "- 해쉬 키 생성: hash(data)"
   ],
   "cell_type": "markdown",
   "metadata": {}
  },
  {
   "cell_type": "code",
   "execution_count": 79,
   "metadata": {},
   "outputs": [
    {
     "output_type": "execute_result",
     "data": {
      "text/plain": [
       "'01238123'"
      ]
     },
     "metadata": {},
     "execution_count": 79
    }
   ],
   "source": [
    "hash_table = list([0 for i in range(8)])\n",
    "\n",
    "def get_key(data):\n",
    "    return hash(data)\n",
    "\n",
    "def hash_function(key):\n",
    "    return key % 8\n",
    "\n",
    "def save_data(data, value):\n",
    "    index_key = get_key(data)\n",
    "    hash_address = hash_function(index_key)\n",
    "    if hash_table[hash_address] != 0:\n",
    "        for index in range(hash_address, len(hash_table)):\n",
    "            if hash_table[index] == 0:\n",
    "                hash_table[index] = [index_key, value]\n",
    "                return\n",
    "            elif hash_table[index][0] == index_key:\n",
    "                hash_table[index][1] = value\n",
    "                return\n",
    "    else:\n",
    "        hash_table[hash_address] = [index_key, value]\n",
    "\n",
    "def read_data(data):\n",
    "    index_key = get_key(data)\n",
    "    hash_address = hash_function(index_key)\n",
    "\n",
    "    if hash_table[hash_address] != 0:\n",
    "        for index in range(hash_address, len(hash_table)):\n",
    "            if hash_table[index] == 0:\n",
    "                return None\n",
    "            elif hash_table[index][0] == index_key:\n",
    "                return hash_table[index][1]\n",
    "    else:\n",
    "        return None"
   ]
  },
  {
   "source": [
    "### 6.빈번한 충돌을 개선하는 기법\n",
    "- 해쉬 함수를 재정의 및 해쉬 테이블 저장공간을 확대\n"
   ],
   "cell_type": "markdown",
   "metadata": {}
  },
  {
   "source": [
    "### 참고: 해쉬 함수와 키 생성 함수\n",
    "- 파이썬의 hash()함수는 실행할 때마다 값이 달라질 수 있음\n",
    "- 유명한 해쉬 함수들이 있음: SHA\n",
    "    - 어떤 데이터도 유일한 고정된 크기의 고정값을 리턴해주므로 해쉬 함수로 유용하게 활용 가능\n",
    "    "
   ],
   "cell_type": "markdown",
   "metadata": {}
  },
  {
   "source": [
    "### SHA1과 SHA256"
   ],
   "cell_type": "markdown",
   "metadata": {}
  },
  {
   "cell_type": "code",
   "execution_count": 88,
   "metadata": {},
   "outputs": [],
   "source": [
    "import hashlib\n",
    "\n",
    "data = 'test'.encode()\n",
    "hash_object = hashlib.sha1()\n",
    "hash_object.update(data)\n",
    "hex_dig = hash_object.hexdigest()"
   ]
  },
  {
   "cell_type": "code",
   "execution_count": 90,
   "metadata": {},
   "outputs": [],
   "source": [
    "import hashlib\n",
    "\n",
    "data = 'test'.encode()\n",
    "hash_object = hashlib.sha256()\n",
    "hash_object.update(data)\n",
    "hex_dig = hash_object.hexdigest()"
   ]
  },
  {
   "source": [
    "### 연습4. Chaining 기법을 적용한 해쉬 테이블 코드에 키 생성 함수를 sha256 해쉬 알고리즘을 사용하도록 변경해보기\n"
   ],
   "cell_type": "markdown",
   "metadata": {}
  },
  {
   "cell_type": "code",
   "execution_count": 96,
   "metadata": {},
   "outputs": [
    {
     "output_type": "stream",
     "name": "stdout",
     "text": [
      "1\n"
     ]
    }
   ],
   "source": [
    "import hashlib\n",
    "\n",
    "hash_table = list([0 for i in range(8)])\n",
    "\n",
    "def get_key(data):\n",
    "    hash_object = hashlib.sha256()\n",
    "    hash_object.update(data.encode())\n",
    "    hex_dig = hash_object.hexdigest()\n",
    "    return int(hex_dig, 16)\n",
    "\n",
    "def hash_function(key):\n",
    "    return key % 8\n",
    "\n",
    "def save_data(data, value):\n",
    "    index_key = get_key(data)\n",
    "    hash_address = hash_function(index_key)\n",
    "    if hash_table[hash_address] != 0: # 데이터가 들어가 있다면\n",
    "        for index in range(len(hash_table[hash_address])):\n",
    "            if hash_table[hash_address][index][0] == index_key: # 하나는 키 값\n",
    "                hash_table[hash_address][index][1] = value # 하나는 value 값\n",
    "                return\n",
    "        hash_table[hash_address].append([index_key, value])\n",
    "    else: # 데이터가 없다면\n",
    "        hash_table[hash_address] = [[index_key, value]]\n",
    "    \n",
    "def read_data(data):\n",
    "    index_key = get_key(data)\n",
    "    hash_address = hash_function(index_key)\n",
    "\n",
    "    if hash_table[hash_address] != 0:\n",
    "        for index in range(len(hash_table[hash_address])):\n",
    "            if hash_table[hash_address][index][0] == index_key:\n",
    "                return hash_table[hash_address][index][1] # 찾고자 하는 value를 반환\n",
    "        return None\n",
    "    else:\n",
    "        return None"
   ]
  },
  {
   "source": [
    "### 7. 시간복잡도\n",
    "- 일반적인 경우(Collision이 없는 경우)는 O(1)\n",
    "- 최악의 경우 (Collision이 모두 발생하는 경우) O(n)\n",
    "    - 해쉬 테이블의 경우, 일반적인 경우를 기대하고 만들기 때문에 시간복잡도는 O(1)이다.\n",
    "\n",
    "### 검색에서 해쉬 테이블의 사용 예\n",
    "- 16개의 배열에 데이터를 저장하고 검색할때 O(n)\n",
    "- 16개의 데이터 저장공간을 가진 위의 해쉬 테이블에 데이터를 저장하고, 검색할 때 O(1)"
   ],
   "cell_type": "code",
   "metadata": {},
   "execution_count": null,
   "outputs": []
  }
 ]
}